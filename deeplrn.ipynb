{
 "cells": [
  {
   "cell_type": "code",
   "execution_count": null,
   "metadata": {},
   "outputs": [],
   "source": [
    "import tensorflow as tf\n",
    "\n",
    "mnist = tf.keras.datasets.mnist #contains 28*28 images of handwritten digits from 0-9\n",
    "\n",
    "#unpack the dataset\n",
    "\n",
    "(x_train, y_train), (x_test, y_test) = mnist.load_data()\n",
    "#normalize/scale the data\n",
    "x_train = tf.keras.utilis.normalize(x_train, axis = 1)\n",
    "\n",
    "x_test = tf.keras.utilis.normalize(x_test, axis = 1)\n",
    "\n",
    "#create model\n",
    "\n",
    "model = tf.keras.models.Sequential()\n",
    "model.add = (tf.keras.layers.Flatten())\n",
    "model.add = (tf.keras.layers.Dense(128, activation = tf.nn.relu))\n",
    "model.add = (tf.keras.layers.Dense(128, activation = tf.nn.relu))\n",
    "model.add = (tf.keras.layers.Dense(10, activation = tf.nn.softmax))\n",
    "\n",
    "model.compile(optimizer=\"adam\",\n",
    "             loss=\"sparse_categorical_crossenthropy\",\n",
    "              metrics = [\"accuracy\"]\n",
    "             )\n",
    "\n",
    "#train the model\n",
    "\n",
    "model.fit(x_train, y_train, epochs = 3)\n",
    "\n",
    "val_loss, val_acc = models.evaluate(x_test, y_test)\n",
    "print(val_loss, val_acc)\n",
    "\n"
   ]
  },
  {
   "cell_type": "code",
   "execution_count": null,
   "metadata": {},
   "outputs": [],
   "source": [
    "import matplotlib.pyplot as plt\n",
    "\n",
    "plt.imshow(x_train[0], cmp = plt.cm.binary)#changes the color to black\n",
    "#to show the number\n",
    "plt.show()"
   ]
  },
  {
   "cell_type": "code",
   "execution_count": null,
   "metadata": {},
   "outputs": [],
   "source": []
  }
 ],
 "metadata": {
  "kernelspec": {
   "display_name": "Python 3",
   "language": "python",
   "name": "python3"
  },
  "language_info": {
   "codemirror_mode": {
    "name": "ipython",
    "version": 3
   },
   "file_extension": ".py",
   "mimetype": "text/x-python",
   "name": "python",
   "nbconvert_exporter": "python",
   "pygments_lexer": "ipython3",
   "version": "3.6.9"
  }
 },
 "nbformat": 4,
 "nbformat_minor": 4
}
